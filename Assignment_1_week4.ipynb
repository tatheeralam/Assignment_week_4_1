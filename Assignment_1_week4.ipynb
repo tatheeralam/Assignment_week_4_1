{
 "cells": [
  {
   "cell_type": "code",
   "execution_count": 13,
   "id": "7fb2a975-b5d8-437a-8324-b7bb061b941c",
   "metadata": {},
   "outputs": [],
   "source": [
    "\"\"\" Q1, Create a vehicle class with an init method having instance variables as name_of_vehicle, max_speed\n",
    " and average_of_vehicle.\n",
    " \n",
    " Answer:1\"\"\"\n",
    "\n",
    "class vehicle():\n",
    "    def __init__(self, name_of_vehicle, max_speed, average_of_vehicle):\n",
    "        self.name_of_vehicle = name_of_vehicle\n",
    "        self.max_speed = max_speed\n",
    "        self.average_of_vehicle = average_of_vehicle "
   ]
  },
  {
   "cell_type": "code",
   "execution_count": 14,
   "id": "bd28dbed-b8dd-41d9-9445-151ffb33c2fa",
   "metadata": {},
   "outputs": [],
   "source": [
    "obj_vehicle = vehicle(\"BMW\" , 200 , 100)"
   ]
  },
  {
   "cell_type": "code",
   "execution_count": 15,
   "id": "b084481b-22d5-406b-8d3a-7c7bb8b358f9",
   "metadata": {},
   "outputs": [
    {
     "data": {
      "text/plain": [
       "100"
      ]
     },
     "execution_count": 15,
     "metadata": {},
     "output_type": "execute_result"
    }
   ],
   "source": [
    "obj_vehicle.average_of_vehicle"
   ]
  },
  {
   "cell_type": "code",
   "execution_count": 16,
   "id": "26328c80-5942-4242-ac44-ec2d607b9aac",
   "metadata": {},
   "outputs": [
    {
     "data": {
      "text/plain": [
       "'BMW'"
      ]
     },
     "execution_count": 16,
     "metadata": {},
     "output_type": "execute_result"
    }
   ],
   "source": [
    "obj_vehicle.name_of_vehicle"
   ]
  },
  {
   "cell_type": "code",
   "execution_count": 17,
   "id": "2b68d4cd-f05e-4d34-83c4-07a287213eac",
   "metadata": {},
   "outputs": [
    {
     "data": {
      "text/plain": [
       "200"
      ]
     },
     "execution_count": 17,
     "metadata": {},
     "output_type": "execute_result"
    }
   ],
   "source": [
    "obj_vehicle.max_speed"
   ]
  },
  {
   "cell_type": "code",
   "execution_count": 81,
   "id": "103dd1c8-5544-46c7-99de-4840c8869525",
   "metadata": {},
   "outputs": [],
   "source": [
    "\"\"\"Q2. Create a child class car from the vehicle class created in Que 1, which will inherit the vehicle class.\n",
    "Create a method named seating_capacity which takes capacity as an argument and returns the name of\n",
    "the vehicle and its seating capacity.\n",
    "\n",
    "Answer:2\"\"\"\n",
    "\n",
    "class child_vehicle(vehicle):\n",
    "    def seating_capacity(self, capacity):\n",
    "        self.capacity = capacity\n",
    "        return  self.name_of_vehicle , self.capacity "
   ]
  },
  {
   "cell_type": "code",
   "execution_count": 84,
   "id": "0597a0aa-ae04-498c-b1d9-cac56039ca26",
   "metadata": {},
   "outputs": [],
   "source": [
    "obj_cv = child_vehicle(\"BMW\" , 200 ,100)"
   ]
  },
  {
   "cell_type": "code",
   "execution_count": 85,
   "id": "accad6b4-6e49-4309-85cd-13f7e3db45e8",
   "metadata": {},
   "outputs": [
    {
     "data": {
      "text/plain": [
       "('BMW', 4)"
      ]
     },
     "execution_count": 85,
     "metadata": {},
     "output_type": "execute_result"
    }
   ],
   "source": [
    "obj_cv.seating_capacity(4)"
   ]
  },
  {
   "cell_type": "code",
   "execution_count": 146,
   "id": "090d9838-36a2-4a11-afe6-007968e7bed3",
   "metadata": {},
   "outputs": [],
   "source": [
    "\"\"\" Q3. What is multiple inheritance? Write a python code to demonstrate multiple inheritance.\n",
    "\n",
    "Answer\"\"\"\n",
    "\n",
    "#Defination :-  When 2 or more than 2 class properties in another class or child class that is something called as Multiple Inheritance.\n",
    "\n",
    "class parent_1():\n",
    "    def mother(self):\n",
    "        return \"mother of child class\""
   ]
  },
  {
   "cell_type": "code",
   "execution_count": 164,
   "id": "1bb37a3c-fff0-43f9-a70e-2f0db055d5b5",
   "metadata": {},
   "outputs": [],
   "source": [
    "class parent_2():\n",
    "    def father(self):\n",
    "        return \"father of child class\""
   ]
  },
  {
   "cell_type": "code",
   "execution_count": 165,
   "id": "5b35de0c-e447-41b5-af12-9ec457306570",
   "metadata": {},
   "outputs": [],
   "source": [
    "class child(parent_1 , parent_2):\n",
    "    pass"
   ]
  },
  {
   "cell_type": "code",
   "execution_count": 166,
   "id": "8ae6713c-c1ae-40f7-a896-323fae76b28c",
   "metadata": {},
   "outputs": [],
   "source": [
    "obj_child = child()"
   ]
  },
  {
   "cell_type": "code",
   "execution_count": 167,
   "id": "4c68ea69-e758-4985-a860-fdd0b765cea7",
   "metadata": {},
   "outputs": [
    {
     "data": {
      "text/plain": [
       "'mother of child class'"
      ]
     },
     "execution_count": 167,
     "metadata": {},
     "output_type": "execute_result"
    }
   ],
   "source": [
    "obj_child.mother()"
   ]
  },
  {
   "cell_type": "code",
   "execution_count": 168,
   "id": "c59db234-fa97-46fb-a481-a1848662f9fe",
   "metadata": {},
   "outputs": [
    {
     "data": {
      "text/plain": [
       "'father of child class'"
      ]
     },
     "execution_count": 168,
     "metadata": {},
     "output_type": "execute_result"
    }
   ],
   "source": [
    "obj_child.father()"
   ]
  },
  {
   "cell_type": "code",
   "execution_count": 17,
   "id": "e7fb200c-e59a-48f9-8e75-bc9c112c7d40",
   "metadata": {},
   "outputs": [],
   "source": [
    "\"\"\"Q4. What are getter and setter in python? Create a class and create a getter and a setter method in this\n",
    "class.\n",
    "\n",
    "Answer\"\"\"\n",
    "\n",
    "# getter :- With the help of getter(@property) external user access private data.\n",
    "# setter :- a setter method is typically used to modify the values of private attributes or properties within a class.\n",
    "\n",
    "class pwskills:\n",
    "    def __init__(self, course_price , course_name):\n",
    "        self.__course_price = course_price\n",
    "        self.course_name = course_name\n",
    "        \n",
    "    @property\n",
    "    def course_price_access(self):\n",
    "        return self.__course_price\n",
    "    \n",
    "    @course_price_access.setter\n",
    "    def course_price_set(self , price):\n",
    "        if price <= 3500:\n",
    "            pass\n",
    "        else:\n",
    "            self.__course_price = price\n",
    "        "
   ]
  },
  {
   "cell_type": "code",
   "execution_count": 18,
   "id": "896288d0-5a73-441c-868a-14b58d01c523",
   "metadata": {},
   "outputs": [],
   "source": [
    "obj_pw = pwskills(3500 , \"data science\")"
   ]
  },
  {
   "cell_type": "code",
   "execution_count": 19,
   "id": "e983637b-2249-4013-a9ad-4180ff6eaa7e",
   "metadata": {},
   "outputs": [
    {
     "ename": "AttributeError",
     "evalue": "'pwskills' object has no attribute '__course_price'",
     "output_type": "error",
     "traceback": [
      "\u001b[0;31m---------------------------------------------------------------------------\u001b[0m",
      "\u001b[0;31mAttributeError\u001b[0m                            Traceback (most recent call last)",
      "Cell \u001b[0;32mIn[19], line 1\u001b[0m\n\u001b[0;32m----> 1\u001b[0m \u001b[43mobj_pw\u001b[49m\u001b[38;5;241;43m.\u001b[39;49m\u001b[43m__course_price\u001b[49m\n",
      "\u001b[0;31mAttributeError\u001b[0m: 'pwskills' object has no attribute '__course_price'"
     ]
    }
   ],
   "source": [
    "obj_pw.__course_price"
   ]
  },
  {
   "cell_type": "code",
   "execution_count": 20,
   "id": "994e94df-ec4a-47a0-bfca-0130cee7a10c",
   "metadata": {},
   "outputs": [
    {
     "data": {
      "text/plain": [
       "3500"
      ]
     },
     "execution_count": 20,
     "metadata": {},
     "output_type": "execute_result"
    }
   ],
   "source": [
    "obj_pw.course_price_access"
   ]
  },
  {
   "cell_type": "code",
   "execution_count": 27,
   "id": "07170c50-0a9d-41a8-97b8-33316677b42e",
   "metadata": {},
   "outputs": [],
   "source": [
    "obj_pw.course_price_set = 4000"
   ]
  },
  {
   "cell_type": "code",
   "execution_count": 28,
   "id": "6662e250-901f-40b9-a7bf-8de514df5100",
   "metadata": {},
   "outputs": [
    {
     "data": {
      "text/plain": [
       "4000"
      ]
     },
     "execution_count": 28,
     "metadata": {},
     "output_type": "execute_result"
    }
   ],
   "source": [
    "obj_pw.course_price_access"
   ]
  },
  {
   "cell_type": "code",
   "execution_count": 29,
   "id": "96e7b1c0-0040-4b5b-95ba-a1c5a8c8e239",
   "metadata": {},
   "outputs": [],
   "source": [
    "\"\"\"Q5.What is method overriding in python? Write a python code to demonstrate method overriding.\n",
    "\n",
    "Answer\"\"\"\n",
    "\n",
    "# method overriding :- Method overriding allows you to redefine a method in a subclass or the derived class previously defined in its parent or the superclass.\n",
    "\n",
    "class animal:\n",
    "    def make_sound(self):\n",
    "        print(\"Generic animal sound\")\n",
    "        \n",
    "class cat:\n",
    "    def make_sound(animal):\n",
    "        print(\"meow\")\n",
    "        \n",
    "class dog:\n",
    "    def make_sound(animal):\n",
    "        print(\"barking\")\n",
    "    "
   ]
  },
  {
   "cell_type": "code",
   "execution_count": 40,
   "id": "a3401f53-b9a2-4cee-a8d3-207b73b4e5c6",
   "metadata": {},
   "outputs": [],
   "source": [
    "obj_animal = animal()\n",
    "dog_obj = dog()\n",
    "cat_obj = cat()"
   ]
  },
  {
   "cell_type": "code",
   "execution_count": 44,
   "id": "ba454d94-e68b-4f71-8835-9450de2cdd24",
   "metadata": {},
   "outputs": [
    {
     "name": "stdout",
     "output_type": "stream",
     "text": [
      "Generic animal sound\n",
      "barking\n",
      "meow\n"
     ]
    }
   ],
   "source": [
    "obj_animal.make_sound()\n",
    "dog_obj.make_sound()\n",
    "cat_obj.make_sound()"
   ]
  },
  {
   "cell_type": "code",
   "execution_count": null,
   "id": "2648e1cd-8fe9-45be-bb07-f3a00dda3d35",
   "metadata": {},
   "outputs": [],
   "source": []
  }
 ],
 "metadata": {
  "kernelspec": {
   "display_name": "Python 3 (ipykernel)",
   "language": "python",
   "name": "python3"
  },
  "language_info": {
   "codemirror_mode": {
    "name": "ipython",
    "version": 3
   },
   "file_extension": ".py",
   "mimetype": "text/x-python",
   "name": "python",
   "nbconvert_exporter": "python",
   "pygments_lexer": "ipython3",
   "version": "3.10.8"
  }
 },
 "nbformat": 4,
 "nbformat_minor": 5
}
